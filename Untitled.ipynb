{
 "cells": [
  {
   "cell_type": "code",
   "execution_count": 11,
   "metadata": {},
   "outputs": [
    {
     "name": "stdout",
     "output_type": "stream",
     "text": [
      "connected!\n",
      "Row(id=2056, title=u'hello', year=u'2017')\n",
      "Row(id=2056, title=u'hello', year=u'2017')\n",
      "Row(id=2056, title=u'hello', year=u'2017')\n"
     ]
    }
   ],
   "source": [
    "from cassandra.cluster import Cluster\n",
    "cluster=Cluster(['127.0.0.1'], port=9042)\n",
    "session = cluster.connect()\n",
    "print(\"connected!\")\n",
    "session.set_keyspace('mydb')\n",
    "#data=session.execute(\"insert into  movie(id,title,year)values(2056,'hello','2017')\");\n",
    "data=session.execute(\"select * from movie\")\n",
    "for row in data:\n",
    "    for r in row:\n",
    "        print row\n",
    "cluster.shutdown()"
   ]
  }
 ],
 "metadata": {
  "kernelspec": {
   "display_name": "Python 2",
   "language": "python",
   "name": "python2"
  },
  "language_info": {
   "codemirror_mode": {
    "name": "ipython",
    "version": 2
   },
   "file_extension": ".py",
   "mimetype": "text/x-python",
   "name": "python",
   "nbconvert_exporter": "python",
   "pygments_lexer": "ipython2",
   "version": "2.7.11+"
  }
 },
 "nbformat": 4,
 "nbformat_minor": 2
}
